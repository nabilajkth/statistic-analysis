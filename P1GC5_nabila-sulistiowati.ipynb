{
 "cells": [
  {
   "cell_type": "code",
   "execution_count": 12,
   "metadata": {},
   "outputs": [
    {
     "data": {
      "text/plain": [
       "'\\nGraded Challenge 5\\n\\nNama  : Nabila Sulistiowati\\nBatch : CODA-RMT-003\\n\\nProgram ini dibuat untuk menganalisis business knowledge dan menerapkan practical statistics pada sebuah dataset\\n\\n'"
      ]
     },
     "execution_count": 12,
     "metadata": {},
     "output_type": "execute_result"
    }
   ],
   "source": [
    "'''\n",
    "Graded Challenge 5\n",
    "\n",
    "Nama  : Nabila Sulistiowati\n",
    "Batch : CODA-RMT-003\n",
    "\n",
    "Program ini dibuat untuk menganalisis business knowledge dan menerapkan practical statistics pada sebuah dataset\n",
    "\n",
    "'''"
   ]
  },
  {
   "cell_type": "code",
   "execution_count": 13,
   "metadata": {},
   "outputs": [],
   "source": [
    "# Import Libraries\n",
    "import pandas as pd\n",
    "from scipy import stats\n",
    "import matplotlib.pyplot as plt\n",
    "import seaborn as sns\n",
    "import numpy as np\n",
    "from scipy.stats import ttest_ind\n",
    "from scipy.stats import pearsonr, spearmanr"
   ]
  },
  {
   "cell_type": "markdown",
   "metadata": {},
   "source": [
    "Business Understanding\n",
    "\n",
    "A. Konteks Bisnis\n",
    "\n",
    "Seblak adalah makanan khas Indonesia yang sedang viral dan menjadi tren kuliner. \n",
    "Sebagai seorang lulusan bootcamp Data Analytics, Saya akan mengeksplorasi potensi penjualan seblak di Tokopedia. \n",
    "Tujuannya adalah untuk memahami bagaimana masyarakat merespons produk ini dan menentukan apakah berjualan seblak bisa menjadi sumber pendapatan yang menguntungkan.\n",
    "\n",
    "B. SMART Framework\n",
    "1. Specific: Memahami performa penjualan dan preferensi konsumen terhadap produk seblak di Tokopedia.\n",
    "2. Measurable: Menggunakan metrik seperti rata-rata penjualan, rating produk, serta pendapatan minimum dan maksimum.\n",
    "3. Achievable: Analisis ini dapat dilakukan dengan dataset yang tersedia dan teknik statistik dasar.\n",
    "4. Relevant: Hasil analisis akan membantu menentukan strategi bisnis yang optimal dalam menjual produk seblak.\n",
    "5. Time-bound: Analisis dilakukan untuk periode data yang tersedia dan akan digunakan untuk keputusan dalam waktu 1 bulan ke depan.\n"
   ]
  },
  {
   "cell_type": "code",
   "execution_count": 14,
   "metadata": {},
   "outputs": [
    {
     "data": {
      "text/html": [
       "<div>\n",
       "<style scoped>\n",
       "    .dataframe tbody tr th:only-of-type {\n",
       "        vertical-align: middle;\n",
       "    }\n",
       "\n",
       "    .dataframe tbody tr th {\n",
       "        vertical-align: top;\n",
       "    }\n",
       "\n",
       "    .dataframe thead th {\n",
       "        text-align: right;\n",
       "    }\n",
       "</style>\n",
       "<table border=\"1\" class=\"dataframe\">\n",
       "  <thead>\n",
       "    <tr style=\"text-align: right;\">\n",
       "      <th></th>\n",
       "      <th>Nama Produk</th>\n",
       "      <th>Harga</th>\n",
       "      <th>Penjual</th>\n",
       "      <th>Kota</th>\n",
       "      <th>Terjual</th>\n",
       "      <th>Rating</th>\n",
       "    </tr>\n",
       "  </thead>\n",
       "  <tbody>\n",
       "    <tr>\n",
       "      <th>0</th>\n",
       "      <td>Seblak Instan Premium Bangsatria</td>\n",
       "      <td>21000</td>\n",
       "      <td>Foodstocks</td>\n",
       "      <td>Jakarta Selatan</td>\n",
       "      <td>80</td>\n",
       "      <td>5.0</td>\n",
       "    </tr>\n",
       "    <tr>\n",
       "      <th>1</th>\n",
       "      <td>Paket Isi 4 Batagor Instan | Makaroni Basah | ...</td>\n",
       "      <td>64906</td>\n",
       "      <td>Lakoca Official Shop</td>\n",
       "      <td>Cimahi</td>\n",
       "      <td>30</td>\n",
       "      <td>4.9</td>\n",
       "    </tr>\n",
       "    <tr>\n",
       "      <th>2</th>\n",
       "      <td>GFS Seblak Basah Instan Original - Tinggal Sed...</td>\n",
       "      <td>16618</td>\n",
       "      <td>Lakoca Official Shop</td>\n",
       "      <td>Cimahi</td>\n",
       "      <td>100</td>\n",
       "      <td>4.9</td>\n",
       "    </tr>\n",
       "    <tr>\n",
       "      <th>3</th>\n",
       "      <td>Kylafood Seblak Rempah Authentik</td>\n",
       "      <td>12900</td>\n",
       "      <td>kylafood</td>\n",
       "      <td>Bandung</td>\n",
       "      <td>3000</td>\n",
       "      <td>4.9</td>\n",
       "    </tr>\n",
       "    <tr>\n",
       "      <th>4</th>\n",
       "      <td>Kerupuk seblak kering kencur 500gram /seblak k...</td>\n",
       "      <td>28700</td>\n",
       "      <td>oyun kriukzz</td>\n",
       "      <td>Jakarta Barat</td>\n",
       "      <td>1000</td>\n",
       "      <td>4.9</td>\n",
       "    </tr>\n",
       "  </tbody>\n",
       "</table>\n",
       "</div>"
      ],
      "text/plain": [
       "                                         Nama Produk  Harga  \\\n",
       "0                   Seblak Instan Premium Bangsatria  21000   \n",
       "1  Paket Isi 4 Batagor Instan | Makaroni Basah | ...  64906   \n",
       "2  GFS Seblak Basah Instan Original - Tinggal Sed...  16618   \n",
       "3                   Kylafood Seblak Rempah Authentik  12900   \n",
       "4  Kerupuk seblak kering kencur 500gram /seblak k...  28700   \n",
       "\n",
       "                Penjual             Kota  Terjual  Rating  \n",
       "0            Foodstocks  Jakarta Selatan       80     5.0  \n",
       "1  Lakoca Official Shop           Cimahi       30     4.9  \n",
       "2  Lakoca Official Shop           Cimahi      100     4.9  \n",
       "3              kylafood          Bandung     3000     4.9  \n",
       "4          oyun kriukzz    Jakarta Barat     1000     4.9  "
      ]
     },
     "execution_count": 14,
     "metadata": {},
     "output_type": "execute_result"
    }
   ],
   "source": [
    "# Import data\n",
    "df = pd.read_csv('/Users/bee/Documents/Hacktiv8/GC/cleanedtokopedia_gc3.csv')\n",
    "df.head()"
   ]
  },
  {
   "cell_type": "code",
   "execution_count": 15,
   "metadata": {},
   "outputs": [
    {
     "name": "stdout",
     "output_type": "stream",
     "text": [
      "<class 'pandas.core.frame.DataFrame'>\n",
      "RangeIndex: 164 entries, 0 to 163\n",
      "Data columns (total 6 columns):\n",
      " #   Column       Non-Null Count  Dtype  \n",
      "---  ------       --------------  -----  \n",
      " 0   Nama Produk  164 non-null    object \n",
      " 1   Harga        164 non-null    int64  \n",
      " 2   Penjual      164 non-null    object \n",
      " 3   Kota         164 non-null    object \n",
      " 4   Terjual      164 non-null    int64  \n",
      " 5   Rating       164 non-null    float64\n",
      "dtypes: float64(1), int64(2), object(3)\n",
      "memory usage: 7.8+ KB\n"
     ]
    }
   ],
   "source": [
    "# Informasi data\n",
    "df.info()"
   ]
  },
  {
   "cell_type": "code",
   "execution_count": 16,
   "metadata": {},
   "outputs": [
    {
     "name": "stdout",
     "output_type": "stream",
     "text": [
      "{'Harga': {'mean': np.float64(25836.920731707316), 'median': np.float64(17500.0), 'std_dev': np.float64(35756.887951488075), 'skewness': np.float64(5.5229560608320245), 'kurtosis': np.float64(42.60994062057268)}, 'Terjual': {'mean': np.float64(410.3963414634146), 'median': np.float64(100.0), 'std_dev': np.float64(1143.929786869433), 'skewness': np.float64(6.071271140972659), 'kurtosis': np.float64(42.802453512404554)}, 'Rating': {'mean': np.float64(4.868292682926828), 'median': np.float64(4.9), 'std_dev': np.float64(0.21126440781040634), 'skewness': np.float64(-4.190896805523781), 'kurtosis': np.float64(24.162253144488638)}}\n"
     ]
    }
   ],
   "source": [
    "# Menghitung rata-rata, median, standar deviasi, skewness, dan kurtosis masiing-masing kolom\n",
    "statistics_desc = {\n",
    "    'Harga': {\n",
    "        'mean': df['Harga'].mean(),\n",
    "        'median': df['Harga'].median(),\n",
    "        'std_dev': df['Harga'].std(),\n",
    "        'skewness': df['Harga'].skew(),\n",
    "        'kurtosis': df['Harga'].kurt()\n",
    "    },\n",
    "    \n",
    "    'Terjual': {\n",
    "        'mean': df['Terjual'].mean(),\n",
    "        'median': df['Terjual'].median(),\n",
    "        'std_dev': df['Terjual'].std(),\n",
    "        'skewness': df['Terjual'].skew(),\n",
    "        'kurtosis': df['Terjual'].kurt()\n",
    "    },\n",
    "    \n",
    "    'Rating': {\n",
    "        'mean': df['Rating'].mean(),\n",
    "        'median': df['Rating'].median(),\n",
    "        'std_dev': df['Rating'].std(),\n",
    "        'skewness': df['Rating'].skew(),\n",
    "        'kurtosis': df['Rating'].kurt()\n",
    "    }\n",
    "}\n",
    "\n",
    "# Menampilkan hasil statistik\n",
    "print(statistics_desc)"
   ]
  },
  {
   "cell_type": "markdown",
   "metadata": {},
   "source": [
    "Dapat disimpulkan bahwa :\n",
    "1.\tHarga:\n",
    "    - Rata-rata (Mean): Rp25,836.92\n",
    "    - Median: Rp17,500\n",
    "    - Standar Deviasi (Std Dev): Rp35,756.89\n",
    "\t- Skewness: 5.52 (Distribusi sangat skewed ke kanan, artinya ada beberapa produk dengan harga sangat tinggi)\n",
    "\t- Kurtosis: 42.61 (Distribusi sangat tajam, menunjukkan adanya banyak nilai yang jauh lebih tinggi dari rata-rata, mungkin karena beberapa produk dengan harga yang sangat mahal)\n",
    "\n",
    "2. Terjual:\n",
    "\t- Rata-rata (Mean): 410.4\n",
    "\t- Median: 100\n",
    "\t- Standar Deviasi (Std Dev): 1,143.93\n",
    "\t- Skewness: 6.07 (Distribusi sangat skewed ke kanan, artinya ada beberapa produk yang terjual dalam jumlah yang sangat besar)\n",
    "\t- Kurtosis: 42.8 (Distribusi sangat tajam, menunjukkan adanya beberapa produk dengan penjualan yang sangat tinggi dibandingkan mayoritas lainnya)\n",
    "\n",
    "3. Rating:\n",
    "    - Rata-rata (Mean): 4.87\n",
    "    - Median: 4.9\n",
    "    - Standar Deviasi (Std Dev): 0.21\n",
    "    - Skewness: -4.19 (Distribusi sangat skewed ke kiri, artinya sebagian besar produk mendapatkan rating yang sangat tinggi)\n",
    "    - Kurtosis: 24.16 (Distribusi sangat tajam, banyak produk yang memiliki rating mendekati 5)\n"
   ]
  },
  {
   "cell_type": "code",
   "execution_count": null,
   "metadata": {},
   "outputs": [
    {
     "data": {
      "text/plain": [
       "(np.float64(3777519.185231424), np.float64(15337379.205012478))"
      ]
     },
     "execution_count": 17,
     "metadata": {},
     "output_type": "execute_result"
    }
   ],
   "source": [
    "# Menghitung pendapatan untuk setiap produk\n",
    "df['revenue'] = df['Harga'] * df['Terjual']\n",
    "\n",
    "# Rata-rata dan standar deviasi dari pendapatan\n",
    "mean_revenue = df['revenue'].mean()\n",
    "std_revenue = df['revenue'].std()\n",
    "\n",
    "# Jumlah data (produk)\n",
    "n = len(df)\n",
    "\n",
    "# Z-score untuk confidence level 95%\n",
    "z_score = 1.96\n",
    "\n",
    "# Menghitung margin of error\n",
    "margin_of_error = z_score * (std_revenue / np.sqrt(n))\n",
    "\n",
    "# Menghitung confidence interval\n",
    "lower_bound = mean_revenue - margin_of_error\n",
    "upper_bound = mean_revenue + margin_of_error\n",
    "\n",
    "lower_bound, upper_bound"
   ]
  },
  {
   "cell_type": "markdown",
   "metadata": {},
   "source": [
    "Hasil perhitungan confidence interval untuk pendapatan bulanan dari penjualan produk seblak adalah sebagai berikut:\n",
    "\n",
    "- Lower Bound (Batas Bawah): Rp3,777,519.19\n",
    "- Upper Bound (Batas Atas): Rp15,337,379.21\n",
    "\n",
    "Kesimpulan:\n",
    "- Lower Bound menunjukkan estimasi pendapatan terendah dengan tingkat kepercayaan 95%.\n",
    "- Upper Bound menunjukkan estimasi pendapatan tertinggi dengan tingkat kepercayaan 95%.\n"
   ]
  },
  {
   "cell_type": "code",
   "execution_count": 18,
   "metadata": {},
   "outputs": [
    {
     "data": {
      "text/plain": [
       "(np.float64(0.49477799420796204), np.float64(0.6214271917158096))"
      ]
     },
     "execution_count": 18,
     "metadata": {},
     "output_type": "execute_result"
    }
   ],
   "source": [
    "# Memisahkan data berdasarkan lokasi\n",
    "jabodetabek = df[df['Kota'].str.contains(\"Jakarta|Bekasi|Depok|Bogor|Tangerang\")]['Harga']\n",
    "luar_jabodetabek = df[~df['Kota'].str.contains(\"Jakarta|Bekasi|Depok|Bogor|Tangerang\")]['Harga']\n",
    "\n",
    "# Melakukan uji t dua sampel independen\n",
    "t_stat, p_value = ttest_ind(jabodetabek, luar_jabodetabek)\n",
    "\n",
    "t_stat, p_value"
   ]
  },
  {
   "cell_type": "markdown",
   "metadata": {},
   "source": [
    "Hasil uji t menunjukkan nilai statistik t sekitar 0.495 dan p-value sekitar 0.621. Yang dapat disimpulkan : \n",
    "- Nilai p-value (0.621):\n",
    "- Karena p-value lebih besar dari 0.05, hipotesis nol (H0) diterima.\n",
    "- Ini menunjukkan bahwa tidak ada bukti yang cukup untuk menyatakan bahwa terdapat perbedaan signifikan dalam harga barang antara Jabodetabek dan luar Jabodetabek pada tingkat signifikansi 5%.\n",
    "\n",
    "Kesimpulan:\n",
    "\n",
    "Tidak ada perbedaan yang signifikan dalam harga barang di Jabodetabek dan luar Jabodetabek berdasarkan data yang tersedia. Hal ini mengindikasikan bahwa biaya bahan baku atau faktor lainnya mungkin tidak berpengaruh besar terhadap perbedaan harga di kedua daerah tersebut."
   ]
  },
  {
   "cell_type": "code",
   "execution_count": 19,
   "metadata": {},
   "outputs": [
    {
     "name": "stdout",
     "output_type": "stream",
     "text": [
      "Korelasi:  0.006017721941190796\n",
      "P-value:  0.9390406608512415\n",
      "Tidak ada korelasi signifikan.\n"
     ]
    }
   ],
   "source": [
    "\n",
    "# Analisis korelasi harga dan rating\n",
    "harga = df['Harga'].dropna()    # Data harga produk\n",
    "rating = df['Rating'].dropna()  # Data rating produk\n",
    "\n",
    "# Menggunakan korelasi Pearson\n",
    "correlation, p_value = pearsonr(harga, rating)\n",
    "\n",
    "# Output hasil korelasi dan p-value\n",
    "print(\"Korelasi: \", correlation)\n",
    "print(\"P-value: \", p_value)\n",
    "\n",
    "# Interpretasi hasil\n",
    "if p_value < 0.05:\n",
    "    print(\"Korelasi signifikan secara statistik.\")\n",
    "else:\n",
    "    print(\"Tidak ada korelasi signifikan.\")"
   ]
  },
  {
   "cell_type": "markdown",
   "metadata": {},
   "source": [
    "Dapat disimpulkan bahwa:\n",
    "- Korelasi: 0.006: Hubungan linear antara harga produk dan kesukaan sangat lemah, hampir tidak ada.\n",
    "- P-value: 0.939: Jauh di atas 0.05, sehingga hasil ini tidak signifikan secara statistik.\n",
    "\n",
    "Tidak ada korelasi signifikan antara harga produk dan kesukaan terhadap produk. Ini berarti harga produk dalam dataset ini tidak memengaruhi seberapa banyak orang menyukai produk tersebut secara statistik dan terdapat kemungkinan terdapat faktor lain yang lebih berpengaruh dalam kecenderungan orang membeli seblak."
   ]
  }
 ],
 "metadata": {
  "kernelspec": {
   "display_name": ".venv",
   "language": "python",
   "name": "python3"
  },
  "language_info": {
   "codemirror_mode": {
    "name": "ipython",
    "version": 3
   },
   "file_extension": ".py",
   "mimetype": "text/x-python",
   "name": "python",
   "nbconvert_exporter": "python",
   "pygments_lexer": "ipython3",
   "version": "3.9.6"
  }
 },
 "nbformat": 4,
 "nbformat_minor": 2
}
